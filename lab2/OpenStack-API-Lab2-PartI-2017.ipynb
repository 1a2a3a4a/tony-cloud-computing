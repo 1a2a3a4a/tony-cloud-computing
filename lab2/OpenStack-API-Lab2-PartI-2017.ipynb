{
 "cells": [
  {
   "cell_type": "markdown",
   "metadata": {},
   "source": [
    "# Computer Lab 2, Part I"
   ]
  },
  {
   "cell_type": "markdown",
   "metadata": {},
   "source": [
    "This notebook consists of instructions, exercises and questions that form the practical part of Lab II, Part I. In this assignment, you will learn the basics of the OpenStack Python APIs that can be used to interact directly with the IaaS services Keystone (Identity), Glance (Image) and Nova (compute). Please prepare your solution and answers to questions directly in this notebook, and export it to PDF. Upload that PDF as to the student portal to complete Part I of the Lab.   "
   ]
  },
  {
   "cell_type": "markdown",
   "metadata": {},
   "source": [
    "## Task - 1"
   ]
  },
  {
   "cell_type": "code",
   "execution_count": null,
   "metadata": {},
   "outputs": [],
   "source": [
    "from os import environ as env\n",
    "import keystoneclient.v3.client as ksclient"
   ]
  },
  {
   "cell_type": "markdown",
   "metadata": {},
   "source": [
    "To establish a client connection, we will need to pass a dictionary with information about the tenant, user, credentials and the API Identity endpoint. Here, I have sourced the \"openrc.sh file\" obtained from the Horizon dashboard in the underlying shell prior to starting the notebook. Hence, in order to actually run the code below, you would need to do the same with your own credentials. "
   ]
  },
  {
   "cell_type": "code",
   "execution_count": null,
   "metadata": {},
   "outputs": [],
   "source": [
    "keystone = ksclient.Client(auth_url=env['OS_AUTH_URL'],\n",
    "                           username=env['OS_USERNAME'],\n",
    "                           password=env['OS_PASSWORD'],\n",
    "                           project_name=env['OS_PROJECT_NAME'],\n",
    "                           project_domain_name=env['OS_USER_DOMAIN_NAME'],\n",
    "                           project_id=env['OS_PROJECT_ID'],\n",
    "                           version=env['OS_IDENTITY_API_VERSION'],\n",
    "                           user_domain_name=env['OS_USER_DOMAIN_NAME'],\n",
    "                           region_name=env['OS_REGION_NAME'])"
   ]
  },
  {
   "cell_type": "raw",
   "metadata": {},
   "source": [
    "# Next command will collect all the available endpoints in keystone."
   ]
  },
  {
   "cell_type": "code",
   "execution_count": null,
   "metadata": {},
   "outputs": [],
   "source": [
    "endpoints = keystone.service_catalog.get_endpoints()"
   ]
  },
  {
   "cell_type": "raw",
   "metadata": {
    "collapsed": true
   },
   "source": [
    "# Next section will print the services with associated infromation."
   ]
  },
  {
   "cell_type": "code",
   "execution_count": null,
   "metadata": {},
   "outputs": [],
   "source": [
    "for endpoint in endpoints:\n",
    "    for edp in endpoints[endpoint]:\n",
    "        if edp['interface'] == 'public':\n",
    "            print 'service: ', endpoint, ', region: ', edp['region'], ', public endpoint: ', edp['url']"
   ]
  },
  {
   "cell_type": "markdown",
   "metadata": {},
   "source": [
    "## Questions:"
   ]
  },
  {
   "cell_type": "code",
   "execution_count": null,
   "metadata": {},
   "outputs": [],
   "source": [
    "1 - Explain the working of the code?\n",
    "    Before running the code I also sourced the .sh file so the keystone client could get my credentials. Next \n",
    "    we are calling on the get_endpoints() method which returns a dictionary containing the endpoints of the service.\n",
    "    Then we are loooking inside the endpoint dictionary to find the endpoints with public interfaces if they are public \n",
    "    they are then printed out.\n",
    "    \n",
    "2 - Why we need openrc file to run this code?\n",
    "    This code requires multiple environmental constants. They are fetched using the openrc file.\n",
    "    \n",
    "3 - The code shows information about the \"public\" endpoints. Modify the code to show both the \"public\" and \"internal\" endpoints?\n",
    "    We can change this line \n",
    "    if edp['interface'] == 'public'\n",
    "    to\n",
    "    if edp['interface'] == 'public' or edp['interface'] == 'internal'\n",
    "    \n",
    "4 - What is the difference between \"internal\" and \"public\" endpoints?\n",
    "    internal endpoints are not reachable from outside the internal network. Anyone can reach the public endpoints."
   ]
  },
  {
   "cell_type": "markdown",
   "metadata": {},
   "source": [
    "# My code for Task 1"
   ]
  },
  {
   "cell_type": "code",
   "execution_count": null,
   "metadata": {},
   "outputs": [],
   "source": [
    "from os import environ as env \n",
    "import keystoneclient.v3.client as ksclient\n",
    "\n",
    "keystone = ksclient.Client(auth_url=env['OS_AUTH_URL'],\n",
    "                           username=env['OS_USERNAME'],\n",
    "                           password=env['OS_PASSWORD'],\n",
    "                           project_name=env['OS_PROJECT_NAME'],\n",
    "                           project_domain_name=env['OS_USER_DOMAIN_NAME'],\n",
    "                           project_id=env['OS_PROJECT_ID'],\n",
    "                           version=env['OS_IDENTITY_API_VERSION'],\n",
    "                           user_domain_name=env['OS_USER_DOMAIN_NAME'],\n",
    "                           region_name=env['OS_REGION_NAME'])\n",
    "\n",
    "endpoints = keystone.service_catalog.get_endpoints()\n",
    "for endpoint in endpoints:\n",
    "    for edp in endpoints[endpoint]:\n",
    "        if edp['interface'] == 'public' or edp['interface'] == 'internal':\n",
    "                if edp['interface'] == 'internal':\n",
    "                        print 'service: ', endpoint, ', region: ', edp['region'], ', internal endpoint: ', edp['url']\n",
    "                else:\n",
    "                        print 'service: ', endpoint, ', region: ', edp['region'], ', public endpoint: ', edp['url']\n",
    "\n"
   ]
  },
  {
   "cell_type": "markdown",
   "metadata": {},
   "source": [
    "# Output Code"
   ]
  },
  {
   "cell_type": "code",
   "execution_count": null,
   "metadata": {},
   "outputs": [],
   "source": [
    "service:  compute , region:  HPC2N , internal endpoint:  http://172.16.2.1:8774/v2.1/ad5091c4f42e4defb98eb9550f875f4f\n",
    "service:  compute , region:  HPC2N , public endpoint:  https://hpc2n.cloud.snic.se:8774/v2.1/ad5091c4f42e4defb98eb9550f875f4f\n",
    "service:  network , region:  HPC2N , internal endpoint:  http://172.16.2.1:9696\n",
    "service:  network , region:  HPC2N , public endpoint:  https://hpc2n.cloud.snic.se:9696\n",
    "service:  volumev2 , region:  HPC2N , public endpoint:  https://hpc2n.cloud.snic.se:8776/v2/ad5091c4f42e4defb98eb9550f875f4f\n",
    "service:  volumev2 , region:  HPC2N , internal endpoint:  http://172.16.2.1:8776/v2/ad5091c4f42e4defb98eb9550f875f4f\n",
    "service:  metric , region:  HPC2N , internal endpoint:  http://172.16.2.1:8041\n",
    "service:  metric , region:  HPC2N , public endpoint:  https://hpc2n.cloud.snic.se:8041\n",
    "service:  metering , region:  HPC2N , internal endpoint:  http://172.16.2.1:8777\n",
    "service:  metering , region:  HPC2N , public endpoint:  https://hpc2n.cloud.snic.se:8777\n",
    "service:  cloudformation , region:  HPC2N , internal endpoint:  http://172.16.2.1:8000/v1\n",
    "service:  cloudformation , region:  HPC2N , public endpoint:  https://hpc2n.cloud.snic.se:8000/v1\n",
    "service:  volume , region:  HPC2N , public endpoint:  https://hpc2n.cloud.snic.se:8776/v1/ad5091c4f42e4defb98eb9550f875f4f\n",
    "service:  volume , region:  HPC2N , internal endpoint:  http://172.16.2.1:8776/v1/ad5091c4f42e4defb98eb9550f875f4f\n",
    "service:  orchestration , region:  HPC2N , internal endpoint:  http://172.16.2.1:8004/v1/ad5091c4f42e4defb98eb9550f875f4f\n",
    "service:  orchestration , region:  HPC2N , public endpoint:  https://hpc2n.cloud.snic.se:8004/v1/ad5091c4f42e4defb98eb9550f875f4f\n",
    "service:  image , region:  HPC2N , public endpoint:  https://hpc2n.cloud.snic.se:9292\n",
    "service:  image , region:  HPC2N , internal endpoint:  http://172.16.2.1:9292\n",
    "service:  identity , region:  HPC2N , public endpoint:  https://hpc2n.cloud.snic.se:5000/v3\n",
    "service:  identity , region:  HPC2N , internal endpoint:  http://172.16.2.1:5000/v3\n"
   ]
  },
  {
   "cell_type": "markdown",
   "metadata": {
    "collapsed": true
   },
   "source": [
    "## Task - 2"
   ]
  },
  {
   "cell_type": "raw",
   "metadata": {
    "collapsed": true
   },
   "source": [
    "In this task you need to write a small python program using Keystone and Nova APIs to list all the available VMs in the project. \n",
    "\n",
    "Use the following links and the code available in Task-1. \n",
    "\n",
    "https://docs.openstack.org/python-novaclient/pike/ https://docs.openstack.org/python-novaclient/pike/reference/api/index.html\n",
    "\n",
    "Following are the functions required to accomplish the task: \n",
    "\n",
    "Load the required plugin:<br />\n",
    "loader = loading.get_plugin_loader(...)\n",
    "\n",
    "Create the auth object:<br />\n",
    "auth = loader.load_from_options(....) \n",
    "\n",
    "Create session object using \"auth\":<br />\n",
    "sess = session.Session( .... )\n",
    "\n",
    "Create Nova Client Object:<br />\n",
    "nova = client.Client( ... )\n",
    "\n",
    "Print the Vms:<br />\n",
    "nova.servers.list():"
   ]
  },
  {
   "cell_type": "markdown",
   "metadata": {},
   "source": [
    "# My code for Task 2"
   ]
  },
  {
   "cell_type": "code",
   "execution_count": null,
   "metadata": {},
   "outputs": [],
   "source": [
    "from keystoneauth1 import loading\n",
    "from keystoneauth1 import session\n",
    "from novaclient import client\n",
    "from os import environ as env\n",
    "\n",
    "loader = loading.get_plugin_loader('password')\n",
    "\n",
    "auth = loader.load_from_options(auth_url=env['OS_AUTH_URL'],\n",
    "                                username=env['OS_USERNAME'],\n",
    "                                password=env['OS_PASSWORD'],\n",
    "                                project_id=env['OS_PROJECT_ID'],\n",
    "                                project_domain_name=env['OS_USER_DOMAIN_NAME'],\n",
    "                                user_domain_name=env['OS_USER_DOMAIN_NAME'],\n",
    "                                )\n",
    "\n",
    "sess = session.Session(auth=auth)\n",
    "\n",
    "nova = client.Client(\"2\", session=sess)\n",
    "\n",
    "servers =  nova.servers.list()\n",
    "for s in servers:\n",
    "        print s\n"
   ]
  },
  {
   "cell_type": "markdown",
   "metadata": {},
   "source": [
    "# Output code "
   ]
  },
  {
   "cell_type": "code",
   "execution_count": null,
   "metadata": {},
   "outputs": [],
   "source": [
    "<Server: Tony VM>\n",
    "<Server: rg2>\n",
    "<Server: STdeletesoon>\n",
    "<Server: accnote>\n",
    "<Server: lab2st>\n",
    "<Server: husses>\n",
    "<Server: ismatLab3>\n",
    "<Server: vm1>\n",
    "<Server: DeleteIn1Day>\n",
    "<Server: vm1>\n",
    "<Server: richard_madl>\n",
    "<Server: julia_lab3>\n",
    "<Server: nelsson_lab3>\n",
    "<Server: vm1>\n",
    "<Server: Elin_instance_lab3>\n",
    "... \"there were more than these\"\n"
   ]
  },
  {
   "cell_type": "markdown",
   "metadata": {},
   "source": [
    "## Task - 3:"
   ]
  },
  {
   "cell_type": "markdown",
   "metadata": {},
   "source": [
    "Try to measure the speed with which you can put and get files to and from volumes. Conduct your experiment several times to gather statistic and plot a) A estimated distribution of the time taken (in wall clock) to write and read a file of size 10MB in your volume and b) vary the size of the file from 10kB to 100MB and plot the read and write throughput (in MB/s) times as a function of file size (for the smaller data sizes, you might need to repeat the experiment many times and obtain a statistical average). Use \"Root\" disk as a reference point. Include the resulting graphs and a description of your experiment in the report."
   ]
  },
  {
   "cell_type": "code",
   "execution_count": 13,
   "metadata": {
    "scrolled": true
   },
   "outputs": [
    {
     "name": "stdout",
     "output_type": "stream",
     "text": [
      "Populating the interactive namespace from numpy and matplotlib\n"
     ]
    },
    {
     "data": {
      "image/png": "[encoded data removed]",
      "text/plain": [
       "<matplotlib.figure.Figure at 0x7fee4851a690>"
      ]
     },
     "metadata": {},
     "output_type": "display_data"
    },
    {
     "data": {
      "image/png": "[encoded data removed]",
      "text/plain": [
       "<matplotlib.figure.Figure at 0x7fee25091990>"
      ]
     },
     "metadata": {},
     "output_type": "display_data"
    },
    {
     "data": {
      "image/png": "[encoded data removed]",
      "text/plain": [
       "<matplotlib.figure.Figure at 0x7fee24ea3750>"
      ]
     },
     "metadata": {},
     "output_type": "display_data"
    },
    {
     "data": {
      "image/png": "[encoded data removed]",
      "text/plain": [
       "<matplotlib.figure.Figure at 0x7fee250cf110>"
      ]
     },
     "metadata": {},
     "output_type": "display_data"
    }
   ],
   "source": [
    "# Implement you solution here. Hint, the following command\n",
    "%pylab inline \n",
    "import matplotlib\n",
    "import numpy as np\n",
    "import matplotlib.pyplot as plt\n",
    "# (a)\n",
    "#writing gargabe data to a 10MB file using 'time' function to calculate the time to cp a file to volume\n",
    "write_times = [0.027, 0.031, 0.030, 0.029, 0.028, 0.032, 0.025, 0.029, 0.029, 0.028, 0.029, 0.031, 0.029, 0.023, 0.029,\n",
    "               0.031, 0.027, 0.017, 0.024, 0.028]\n",
    "#reading a 10MB file using 'cat'\n",
    "read_times = [0.421, 0.539, 0.438, 0.467, 0.426, 0.391, 0.386 ,0.417, 0.410, 0.402, 0.404, 0.397, 0.377, 0.373, 0.363\n",
    "             , 0.415, 0.407, 0.394, 0.398]\n",
    "\n",
    "#write times plot\n",
    "write_mu = np.mean(write_times)\n",
    "write_variance = np.var(write_times)\n",
    "sigma = math.sqrt(write_variance)\n",
    "x = np.linspace(write_mu-3*write_variance, write_mu+3*write_variance, 100)\n",
    "plt.plot(x, mlab.normpdf(x, write_mu, sigma))\n",
    "plt.show()\n",
    "\n",
    "#read_times plot\n",
    "read_mu = np.mean(read_times)\n",
    "read_variance = np.var(read_times)\n",
    "sigma = math.sqrt(read_variance)\n",
    "x = np.linspace(read_mu-3*read_variance, read_mu+3*read_variance, 100)\n",
    "plt.plot(x, mlab.normpdf(x, read_mu, sigma))\n",
    "plt.show()\n",
    "\n",
    "\n",
    "#(b)\n",
    "#using 'dd if=/dev/zero of=./largefile bs=1k count=size' with 1k blocksizes\n",
    "#writing 1kb, 10kb, 100kb, 1mb, 10mb, 100mb, 5 tries average\n",
    "#throughput in megabyte/second\n",
    "write_throughput = {'1kb': 2.6,'10kb': 24.7, '100kb': 158.6, '1Mb': 279.6, '10Mb': 389.4,'100Mb': 540.2}   \n",
    "\n",
    "#reading using 'dd if=./largefile of=/dev/null bs=1k'\n",
    "read_throughput = {'1kb': 3.2,'10kb': 32.4, '100kb': 239, '1Mb': 900, '10Mb': 1433.6,'100Mb': 1638.4}\n",
    "\n",
    "#write throughput plot\n",
    "plt.bar(range(len(write_throughput)), write_throughput.values(), align='center')\n",
    "plt.xticks(range(len(write_throughput)), write_throughput.keys())\n",
    "plt.show()\n",
    "#read throughput plot\n",
    "plt.bar(range(len(read_throughput)), read_throughput.values(), align='center')\n",
    "plt.xticks(range(len(read_throughput)), read_throughput.keys())\n",
    "plt.show()\n",
    "# will  make matplotlib/pylab available and plots will be displayed directly in the notebook, for example\n",
    "#plt.plot([0,1,2,3],[0,1,2,3])"
   ]
  },
  {
   "cell_type": "markdown",
   "metadata": {},
   "source": [
    "Don't foget to terminate resources after your experiments. "
   ]
  },
  {
   "cell_type": "code",
   "execution_count": null,
   "metadata": {},
   "outputs": [],
   "source": [
    "# Clean up volumes"
   ]
  }
 ],
 "metadata": {
  "kernelspec": {
   "display_name": "Python 2",
   "language": "python",
   "name": "python2"
  },
  "language_info": {
   "codemirror_mode": {
    "name": "ipython",
    "version": 2
   },
   "file_extension": ".py",
   "mimetype": "text/x-python",
   "name": "python",
   "nbconvert_exporter": "python",
   "pygments_lexer": "ipython2",
   "version": "2.7.12"
  }
 },
 "nbformat": 4,
 "nbformat_minor": 1
}
